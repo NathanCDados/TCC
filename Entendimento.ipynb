{
 "cells": [
  {
   "cell_type": "code",
   "execution_count": 2,
   "id": "4ac6dbfc",
   "metadata": {},
   "outputs": [
    {
     "data": {
      "application/vnd.microsoft.datawrangler.viewer.v0+json": {
       "columns": [
        {
         "name": "index",
         "rawType": "int64",
         "type": "integer"
        },
        {
         "name": "autor",
         "rawType": "object",
         "type": "string"
        },
        {
         "name": "comentario",
         "rawType": "object",
         "type": "string"
        },
        {
         "name": "data",
         "rawType": "object",
         "type": "string"
        }
       ],
       "ref": "a6c912f6-2554-4b7a-b410-d6b08d3d88dd",
       "rows": [
        [
         "0",
         "@ClubMusic80",
         "Discover how to dance the famous Lambada ! 💃💃\nhttps://www.youtube.com/watch?v=VWMvUvuq2Yg",
         "2023-12-29T09:43:48Z"
        ],
        [
         "1",
         "@mohammedalseraji5342",
         "❤",
         "2025-10-11T11:15:30Z"
        ],
        [
         "2",
         "@MingRming",
         "2025  กะยังพังยุ่เดี้",
         "2025-10-11T10:44:16Z"
        ],
        [
         "3",
         "@iselasalgado4230",
         "NUNCA ES Y NUNCA SERA IGUA, LO QUE USTED ! ACONDICIONO ESRA EXCELENTE ❤❤❤",
         "2025-10-11T08:36:53Z"
        ],
        [
         "4",
         "@iselasalgado4230",
         "De  esto hablo DON OMAR.",
         "2025-10-11T08:34:15Z"
        ]
       ],
       "shape": {
        "columns": 3,
        "rows": 5
       }
      },
      "text/html": [
       "<div>\n",
       "<style scoped>\n",
       "    .dataframe tbody tr th:only-of-type {\n",
       "        vertical-align: middle;\n",
       "    }\n",
       "\n",
       "    .dataframe tbody tr th {\n",
       "        vertical-align: top;\n",
       "    }\n",
       "\n",
       "    .dataframe thead th {\n",
       "        text-align: right;\n",
       "    }\n",
       "</style>\n",
       "<table border=\"1\" class=\"dataframe\">\n",
       "  <thead>\n",
       "    <tr style=\"text-align: right;\">\n",
       "      <th></th>\n",
       "      <th>autor</th>\n",
       "      <th>comentario</th>\n",
       "      <th>data</th>\n",
       "    </tr>\n",
       "  </thead>\n",
       "  <tbody>\n",
       "    <tr>\n",
       "      <th>0</th>\n",
       "      <td>@ClubMusic80</td>\n",
       "      <td>Discover how to dance the famous Lambada ! 💃💃\\...</td>\n",
       "      <td>2023-12-29T09:43:48Z</td>\n",
       "    </tr>\n",
       "    <tr>\n",
       "      <th>1</th>\n",
       "      <td>@mohammedalseraji5342</td>\n",
       "      <td>❤</td>\n",
       "      <td>2025-10-11T11:15:30Z</td>\n",
       "    </tr>\n",
       "    <tr>\n",
       "      <th>2</th>\n",
       "      <td>@MingRming</td>\n",
       "      <td>2025  กะยังพังยุ่เดี้</td>\n",
       "      <td>2025-10-11T10:44:16Z</td>\n",
       "    </tr>\n",
       "    <tr>\n",
       "      <th>3</th>\n",
       "      <td>@iselasalgado4230</td>\n",
       "      <td>NUNCA ES Y NUNCA SERA IGUA, LO QUE USTED ! ACO...</td>\n",
       "      <td>2025-10-11T08:36:53Z</td>\n",
       "    </tr>\n",
       "    <tr>\n",
       "      <th>4</th>\n",
       "      <td>@iselasalgado4230</td>\n",
       "      <td>De  esto hablo DON OMAR.</td>\n",
       "      <td>2025-10-11T08:34:15Z</td>\n",
       "    </tr>\n",
       "  </tbody>\n",
       "</table>\n",
       "</div>"
      ],
      "text/plain": [
       "                   autor                                         comentario  \\\n",
       "0           @ClubMusic80  Discover how to dance the famous Lambada ! 💃💃\\...   \n",
       "1  @mohammedalseraji5342                                                  ❤   \n",
       "2             @MingRming                              2025  กะยังพังยุ่เดี้   \n",
       "3      @iselasalgado4230  NUNCA ES Y NUNCA SERA IGUA, LO QUE USTED ! ACO...   \n",
       "4      @iselasalgado4230                           De  esto hablo DON OMAR.   \n",
       "\n",
       "                   data  \n",
       "0  2023-12-29T09:43:48Z  \n",
       "1  2025-10-11T11:15:30Z  \n",
       "2  2025-10-11T10:44:16Z  \n",
       "3  2025-10-11T08:36:53Z  \n",
       "4  2025-10-11T08:34:15Z  "
      ]
     },
     "execution_count": 2,
     "metadata": {},
     "output_type": "execute_result"
    }
   ],
   "source": [
    "import pandas as pd\n",
    "\n",
    "# Lê o CSV\n",
    "df_youtube = pd.read_csv(\"comentarios_youtube_com_datas (1).csv\")\n",
    "\n",
    "# Mostra as 5 primeiras linhas\n",
    "df_youtube.head()\n"
   ]
  },
  {
   "cell_type": "code",
   "execution_count": 3,
   "id": "adf30bf2",
   "metadata": {},
   "outputs": [
    {
     "name": "stdout",
     "output_type": "stream",
     "text": [
      "Total de comentários: 72102\n"
     ]
    }
   ],
   "source": [
    "# Total de linhas (comentários)\n",
    "total_comentarios = len(df_youtube)\n",
    "print(\"Total de comentários:\", total_comentarios)\n",
    "\n",
    "#Total de comentários: 72102\n"
   ]
  },
  {
   "cell_type": "code",
   "execution_count": 4,
   "id": "7c40278b",
   "metadata": {},
   "outputs": [
    {
     "name": "stdout",
     "output_type": "stream",
     "text": [
      "Total de comentários válidos: 72068\n"
     ]
    }
   ],
   "source": [
    "total_comentarios_validos = df_youtube['comentario'].notna().sum()\n",
    "print(\"Total de comentários válidos:\", total_comentarios_validos)\n",
    "\n",
    "#Total de comentários válidos: 72068"
   ]
  },
  {
   "cell_type": "markdown",
   "id": "8d8ae4d5",
   "metadata": {},
   "source": [
    "Função para detectar emojis"
   ]
  },
  {
   "cell_type": "code",
   "execution_count": 5,
   "id": "b11f2097",
   "metadata": {},
   "outputs": [],
   "source": [
    "import pandas as pd\n",
    "import emoji\n",
    "import re\n",
    "\n",
    "def apenas_emoji(texto):\n",
    "    \"\"\"Retorna True se o texto contiver apenas emojis (ignorando espaços).\"\"\"\n",
    "    if pd.isna(texto) or str(texto).strip() == \"\":\n",
    "        return False\n",
    "    \n",
    "    texto_limpo = str(texto).strip()\n",
    "    texto_limpo = re.sub(r\"\\s+\", \"\", texto_limpo)  # remove espaços\n",
    "\n",
    "    emoji_count = sum(1 for ch in texto_limpo if ch in emoji.EMOJI_DATA)\n",
    "    return emoji_count > 0 and emoji_count == len(texto_limpo)\n",
    "\n",
    "\n"
   ]
  },
  {
   "cell_type": "markdown",
   "id": "ac376fea",
   "metadata": {},
   "source": [
    "Criar coluna indicando se é emoji ou texto"
   ]
  },
  {
   "cell_type": "code",
   "execution_count": 6,
   "id": "9dd4ca72",
   "metadata": {},
   "outputs": [],
   "source": [
    "df_youtube[\"tipo\"] = df_youtube[\"comentario\"].apply(\n",
    "    lambda x: \"vazio\" if pd.isna(x) or str(x).strip() == \"\" \n",
    "    else (\"emoji\" if apenas_emoji(x) else \"escrito\")\n",
    ")\n"
   ]
  },
  {
   "cell_type": "markdown",
   "id": "5047024f",
   "metadata": {},
   "source": [
    "Contar quantos são emoji e quantos são escritos"
   ]
  },
  {
   "cell_type": "code",
   "execution_count": 9,
   "id": "b9e1ee6c",
   "metadata": {},
   "outputs": [
    {
     "data": {
      "application/vnd.microsoft.datawrangler.viewer.v0+json": {
       "columns": [
        {
         "name": "tipo",
         "rawType": "object",
         "type": "string"
        },
        {
         "name": "count",
         "rawType": "int64",
         "type": "integer"
        }
       ],
       "ref": "6da95543-a2f7-4803-b73f-46c5baa7eb28",
       "rows": [
        [
         "escrito",
         "69390"
        ],
        [
         "emoji",
         "2678"
        ],
        [
         "vazio",
         "34"
        ]
       ],
       "shape": {
        "columns": 1,
        "rows": 3
       }
      },
      "text/plain": [
       "tipo\n",
       "escrito    69390\n",
       "emoji       2678\n",
       "vazio         34\n",
       "Name: count, dtype: int64"
      ]
     },
     "execution_count": 9,
     "metadata": {},
     "output_type": "execute_result"
    }
   ],
   "source": [
    "# Contagem geral\n",
    "df_youtube[\"tipo\"].value_counts()\n"
   ]
  },
  {
   "cell_type": "markdown",
   "id": "7cb1de09",
   "metadata": {},
   "source": [
    "Verificar os resultados"
   ]
  },
  {
   "cell_type": "code",
   "execution_count": 10,
   "id": "e7d9a8d5",
   "metadata": {},
   "outputs": [
    {
     "data": {
      "application/vnd.microsoft.datawrangler.viewer.v0+json": {
       "columns": [
        {
         "name": "tipo",
         "rawType": "object",
         "type": "string"
        },
        {
         "name": "proportion",
         "rawType": "float64",
         "type": "float"
        }
       ],
       "ref": "9c3b0f52-028b-4957-b237-bc46fe55840d",
       "rows": [
        [
         "escrito",
         "96.23866189564784"
        ],
        [
         "emoji",
         "3.7141826856397877"
        ],
        [
         "vazio",
         "0.04715541871237968"
        ]
       ],
       "shape": {
        "columns": 1,
        "rows": 3
       }
      },
      "text/plain": [
       "tipo\n",
       "escrito    96.238662\n",
       "emoji       3.714183\n",
       "vazio       0.047155\n",
       "Name: proportion, dtype: float64"
      ]
     },
     "execution_count": 10,
     "metadata": {},
     "output_type": "execute_result"
    }
   ],
   "source": [
    "# Distribuição percentual\n",
    "df_youtube[\"tipo\"].value_counts(normalize=True) * 100\n"
   ]
  },
  {
   "cell_type": "markdown",
   "id": "27dc9608",
   "metadata": {},
   "source": [
    "Visualizar exemplos"
   ]
  },
  {
   "cell_type": "code",
   "execution_count": 11,
   "id": "f0b6bc60",
   "metadata": {},
   "outputs": [
    {
     "name": "stdout",
     "output_type": "stream",
     "text": [
      "\n",
      "Exemplos de EMOJI:\n"
     ]
    },
    {
     "data": {
      "application/vnd.microsoft.datawrangler.viewer.v0+json": {
       "columns": [
        {
         "name": "index",
         "rawType": "int64",
         "type": "integer"
        },
        {
         "name": "comentario",
         "rawType": "object",
         "type": "string"
        }
       ],
       "ref": "4372f282-c967-4baa-b312-1833cf6ff188",
       "rows": [
        [
         "1",
         "❤"
        ],
        [
         "7",
         "❤❤❤❤✌💃💃💃💃"
        ],
        [
         "19",
         "❤❤❤"
        ],
        [
         "25",
         "❤❤❤"
        ],
        [
         "109",
         "❤❤"
        ]
       ],
       "shape": {
        "columns": 1,
        "rows": 5
       }
      },
      "text/plain": [
       "1              ❤\n",
       "7      ❤❤❤❤✌💃💃💃💃\n",
       "19           ❤❤❤\n",
       "25           ❤❤❤\n",
       "109           ❤❤\n",
       "Name: comentario, dtype: object"
      ]
     },
     "metadata": {},
     "output_type": "display_data"
    },
    {
     "name": "stdout",
     "output_type": "stream",
     "text": [
      "\n",
      "Exemplos de ESCRITO:\n"
     ]
    },
    {
     "data": {
      "application/vnd.microsoft.datawrangler.viewer.v0+json": {
       "columns": [
        {
         "name": "index",
         "rawType": "int64",
         "type": "integer"
        },
        {
         "name": "comentario",
         "rawType": "object",
         "type": "string"
        }
       ],
       "ref": "a45027d3-9b05-4e60-a611-733a831ab9ad",
       "rows": [
        [
         "0",
         "Discover how to dance the famous Lambada ! 💃💃\nhttps://www.youtube.com/watch?v=VWMvUvuq2Yg"
        ],
        [
         "2",
         "2025  กะยังพังยุ่เดี้"
        ],
        [
         "3",
         "NUNCA ES Y NUNCA SERA IGUA, LO QUE USTED ! ACONDICIONO ESRA EXCELENTE ❤❤❤"
        ],
        [
         "4",
         "De  esto hablo DON OMAR."
        ],
        [
         "5",
         "The Best song Ever🎉❤"
        ]
       ],
       "shape": {
        "columns": 1,
        "rows": 5
       }
      },
      "text/plain": [
       "0    Discover how to dance the famous Lambada ! 💃💃\\...\n",
       "2                                2025  กะยังพังยุ่เดี้\n",
       "3    NUNCA ES Y NUNCA SERA IGUA, LO QUE USTED ! ACO...\n",
       "4                             De  esto hablo DON OMAR.\n",
       "5                                 The Best song Ever🎉❤\n",
       "Name: comentario, dtype: object"
      ]
     },
     "metadata": {},
     "output_type": "display_data"
    },
    {
     "name": "stdout",
     "output_type": "stream",
     "text": [
      "\n",
      "Exemplos de VAZIO:\n"
     ]
    },
    {
     "data": {
      "application/vnd.microsoft.datawrangler.viewer.v0+json": {
       "columns": [
        {
         "name": "index",
         "rawType": "int64",
         "type": "integer"
        },
        {
         "name": "comentario",
         "rawType": "object",
         "type": "unknown"
        }
       ],
       "ref": "baae01a3-d3af-4846-bfeb-462e51e09372",
       "rows": [
        [
         "427",
         null
        ],
        [
         "5642",
         null
        ],
        [
         "8336",
         null
        ],
        [
         "9025",
         null
        ],
        [
         "11471",
         null
        ]
       ],
       "shape": {
        "columns": 1,
        "rows": 5
       }
      },
      "text/plain": [
       "427      NaN\n",
       "5642     NaN\n",
       "8336     NaN\n",
       "9025     NaN\n",
       "11471    NaN\n",
       "Name: comentario, dtype: object"
      ]
     },
     "metadata": {},
     "output_type": "display_data"
    }
   ],
   "source": [
    "# Alguns exemplos de cada tipo\n",
    "for tipo in [\"emoji\", \"escrito\", \"vazio\"]:\n",
    "    print(f\"\\nExemplos de {tipo.upper()}:\")\n",
    "    display(df_youtube[df_youtube[\"tipo\"] == tipo][\"comentario\"].head(5))\n"
   ]
  },
  {
   "cell_type": "code",
   "execution_count": 17,
   "id": "90dc6df3",
   "metadata": {},
   "outputs": [],
   "source": [
    "df_escritos = df_youtube[df_youtube[\"tipo\"] == \"escrito\"].copy()\n"
   ]
  },
  {
   "cell_type": "code",
   "execution_count": 12,
   "id": "fc7f1a41",
   "metadata": {},
   "outputs": [],
   "source": [
    "import pandas as pd\n",
    "from langdetect import detect, DetectorFactory\n",
    "import pycountry\n",
    "\n",
    "# Fixar semente para resultados consistentes\n",
    "DetectorFactory.seed = 0"
   ]
  },
  {
   "cell_type": "code",
   "execution_count": 18,
   "id": "b546c356",
   "metadata": {},
   "outputs": [],
   "source": [
    "def detecta_idioma_nome(texto):\n",
    "    try:\n",
    "        codigo = detect(texto)\n",
    "        idioma = pycountry.languages.get(alpha_2=codigo)\n",
    "        if idioma:\n",
    "            return idioma.name.capitalize()\n",
    "        idioma = pycountry.languages.get(alpha_3=codigo)\n",
    "        if idioma:\n",
    "            return idioma.name.capitalize()\n",
    "        return codigo  # fallback: retorna o código se não encontrar o nome\n",
    "    except:\n",
    "        return \"Indefinido\"\n"
   ]
  },
  {
   "cell_type": "code",
   "execution_count": 19,
   "id": "02ecd976",
   "metadata": {},
   "outputs": [],
   "source": [
    "df_escritos[\"idioma\"] = df_escritos[\"comentario\"].apply(detecta_idioma_nome)\n"
   ]
  },
  {
   "cell_type": "code",
   "execution_count": 20,
   "id": "e0105bfa",
   "metadata": {},
   "outputs": [
    {
     "data": {
      "application/vnd.microsoft.datawrangler.viewer.v0+json": {
       "columns": [
        {
         "name": "idioma",
         "rawType": "object",
         "type": "string"
        },
        {
         "name": "count",
         "rawType": "int64",
         "type": "integer"
        }
       ],
       "ref": "9b662684-6f90-43c7-952f-45ce992d7dc7",
       "rows": [
        [
         "English",
         "16584"
        ],
        [
         "Spanish",
         "12428"
        ],
        [
         "Portuguese",
         "9335"
        ],
        [
         "Russian",
         "5003"
        ],
        [
         "Indefinido",
         "3949"
        ],
        [
         "Turkish",
         "1815"
        ],
        [
         "Italian",
         "1629"
        ],
        [
         "French",
         "1559"
        ],
        [
         "German",
         "1420"
        ],
        [
         "Somali",
         "1410"
        ],
        [
         "Indonesian",
         "1195"
        ],
        [
         "Vietnamese",
         "948"
        ],
        [
         "Romanian",
         "941"
        ],
        [
         "Tagalog",
         "856"
        ],
        [
         "Catalan",
         "838"
        ],
        [
         "Polish",
         "820"
        ],
        [
         "Arabic",
         "589"
        ],
        [
         "Estonian",
         "559"
        ],
        [
         "Croatian",
         "497"
        ],
        [
         "Swahili (macrolanguage)",
         "483"
        ],
        [
         "Dutch",
         "462"
        ],
        [
         "Norwegian",
         "446"
        ],
        [
         "Hungarian",
         "423"
        ],
        [
         "Bulgarian",
         "415"
        ],
        [
         "Ukrainian",
         "408"
        ],
        [
         "Slovenian",
         "401"
        ],
        [
         "Macedonian",
         "392"
        ],
        [
         "Afrikaans",
         "388"
        ],
        [
         "Finnish",
         "368"
        ],
        [
         "Welsh",
         "365"
        ],
        [
         "Danish",
         "308"
        ],
        [
         "Japanese",
         "287"
        ],
        [
         "Lithuanian",
         "230"
        ],
        [
         "Swedish",
         "218"
        ],
        [
         "Korean",
         "196"
        ],
        [
         "Thai",
         "190"
        ],
        [
         "Slovak",
         "186"
        ],
        [
         "Albanian",
         "164"
        ],
        [
         "Czech",
         "142"
        ],
        [
         "Modern greek (1453-)",
         "128"
        ],
        [
         "Latvian",
         "85"
        ],
        [
         "Persian",
         "77"
        ],
        [
         "Malayalam",
         "61"
        ],
        [
         "zh-cn",
         "56"
        ],
        [
         "Hebrew",
         "34"
        ],
        [
         "Bengali",
         "29"
        ],
        [
         "Hindi",
         "24"
        ],
        [
         "Urdu",
         "21"
        ],
        [
         "Tamil",
         "10"
        ],
        [
         "zh-tw",
         "10"
        ]
       ],
       "shape": {
        "columns": 1,
        "rows": 50
       }
      },
      "text/plain": [
       "idioma\n",
       "English                    16584\n",
       "Spanish                    12428\n",
       "Portuguese                  9335\n",
       "Russian                     5003\n",
       "Indefinido                  3949\n",
       "Turkish                     1815\n",
       "Italian                     1629\n",
       "French                      1559\n",
       "German                      1420\n",
       "Somali                      1410\n",
       "Indonesian                  1195\n",
       "Vietnamese                   948\n",
       "Romanian                     941\n",
       "Tagalog                      856\n",
       "Catalan                      838\n",
       "Polish                       820\n",
       "Arabic                       589\n",
       "Estonian                     559\n",
       "Croatian                     497\n",
       "Swahili (macrolanguage)      483\n",
       "Dutch                        462\n",
       "Norwegian                    446\n",
       "Hungarian                    423\n",
       "Bulgarian                    415\n",
       "Ukrainian                    408\n",
       "Slovenian                    401\n",
       "Macedonian                   392\n",
       "Afrikaans                    388\n",
       "Finnish                      368\n",
       "Welsh                        365\n",
       "Danish                       308\n",
       "Japanese                     287\n",
       "Lithuanian                   230\n",
       "Swedish                      218\n",
       "Korean                       196\n",
       "Thai                         190\n",
       "Slovak                       186\n",
       "Albanian                     164\n",
       "Czech                        142\n",
       "Modern greek (1453-)         128\n",
       "Latvian                       85\n",
       "Persian                       77\n",
       "Malayalam                     61\n",
       "zh-cn                         56\n",
       "Hebrew                        34\n",
       "Bengali                       29\n",
       "Hindi                         24\n",
       "Urdu                          21\n",
       "Tamil                         10\n",
       "zh-tw                         10\n",
       "Name: count, dtype: int64"
      ]
     },
     "execution_count": 20,
     "metadata": {},
     "output_type": "execute_result"
    }
   ],
   "source": [
    "df_escritos[\"idioma\"].value_counts().head(50)\n"
   ]
  },
  {
   "cell_type": "code",
   "execution_count": 21,
   "id": "cd62cfb1",
   "metadata": {},
   "outputs": [],
   "source": [
    "df_youtube = df_youtube.merge(\n",
    "    df_escritos[[\"comentario\", \"idioma\"]],\n",
    "    on=\"comentario\",\n",
    "    how=\"left\"\n",
    ")\n"
   ]
  },
  {
   "cell_type": "code",
   "execution_count": 25,
   "id": "adae5a9f",
   "metadata": {},
   "outputs": [
    {
     "data": {
      "image/png": "[encoded data removed]",
      "text/plain": [
       "<Figure size 1000x600 with 1 Axes>"
      ]
     },
     "metadata": {},
     "output_type": "display_data"
    }
   ],
   "source": [
    "import matplotlib.pyplot as plt\n",
    "\n",
    "# Filtra apenas idiomas definidos\n",
    "df_plot = df_escritos[df_escritos[\"idioma\"] != \"Indefinido\"]\n",
    "\n",
    "# Top 10 idiomas\n",
    "idioma_counts = df_plot[\"idioma\"].value_counts().head(10).sort_values(ascending=True)\n",
    "\n",
    "# Gráfico horizontal\n",
    "plt.figure(figsize=(10,6))\n",
    "plt.barh(idioma_counts.index, idioma_counts.values, color=\"#4A90E2\", edgecolor=\"gray\")\n",
    "\n",
    "plt.title(\"Top 10 Idiomas dos Comentários Escritos\", fontsize=14)\n",
    "plt.xlabel(\"Quantidade de Comentários\", fontsize=12)\n",
    "plt.ylabel(\"Idioma\", fontsize=12)\n",
    "plt.grid(axis=\"x\", linestyle=\"--\", alpha=0.5)\n",
    "\n",
    "# Exibir os valores no final das barras\n",
    "for i, v in enumerate(idioma_counts.values):\n",
    "    plt.text(v + (max(idioma_counts.values) * 0.01), i, str(v), va='center', fontsize=10)\n",
    "\n",
    "plt.tight_layout()\n",
    "plt.show()\n"
   ]
  },
  {
   "cell_type": "code",
   "execution_count": 24,
   "id": "9e166a6e",
   "metadata": {},
   "outputs": [
    {
     "data": {
      "image/png": "[encoded data removed]",
      "text/plain": [
       "<Figure size 1000x600 with 1 Axes>"
      ]
     },
     "metadata": {},
     "output_type": "display_data"
    }
   ],
   "source": [
    "import matplotlib.pyplot as plt\n",
    "\n",
    "# Filtra apenas idiomas definidos\n",
    "df_plot = df_escritos[df_escritos[\"idioma\"] != \"Indefinido\"]\n",
    "\n",
    "# Conta e ordena\n",
    "idioma_counts = df_plot[\"idioma\"].value_counts().sort_values(ascending=True)\n",
    "\n",
    "# Cria gráfico horizontal (estilo histograma de frequência)\n",
    "plt.figure(figsize=(10, 6))\n",
    "plt.barh(idioma_counts.index, idioma_counts.values, color=\"skyblue\", edgecolor=\"gray\")\n",
    "\n",
    "plt.title(\"Distribuição dos Idiomas dos Comentários Escritos\", fontsize=14)\n",
    "plt.xlabel(\"Quantidade de Comentários\", fontsize=12)\n",
    "plt.ylabel(\"Idioma\", fontsize=12)\n",
    "plt.grid(axis=\"x\", linestyle=\"--\", alpha=0.5)\n",
    "\n",
    "# Mostra valores no final das barras\n",
    "for i, v in enumerate(idioma_counts.values):\n",
    "    plt.text(v + 50, i, str(v), va='center', fontsize=10)\n",
    "\n",
    "plt.tight_layout()\n",
    "plt.show()\n"
   ]
  },
  {
   "cell_type": "code",
   "execution_count": null,
   "id": "6b06f345",
   "metadata": {},
   "outputs": [
    {
     "name": "stdout",
     "output_type": "stream",
     "text": [
      "3949\n"
     ]
    }
   ],
   "source": [
    "num_indefinidos = (df_escritos[\"idioma\"] == \"Indefinido\").sum()\n",
    "print(num_indefinidos)\n",
    "\n",
    "#3949\n"
   ]
  },
  {
   "cell_type": "code",
   "execution_count": 29,
   "id": "3e74ef65",
   "metadata": {},
   "outputs": [],
   "source": [
    "df_youtube.to_excel(\"comentarios_youtube_classificados.xlsx\", index=False, engine=\"openpyxl\")\n"
   ]
  }
 ],
 "metadata": {
  "kernelspec": {
   "display_name": "Python 3",
   "language": "python",
   "name": "python3"
  },
  "language_info": {
   "codemirror_mode": {
    "name": "ipython",
    "version": 3
   },
   "file_extension": ".py",
   "mimetype": "text/x-python",
   "name": "python",
   "nbconvert_exporter": "python",
   "pygments_lexer": "ipython3",
   "version": "3.13.5"
  }
 },
 "nbformat": 4,
 "nbformat_minor": 5
}
